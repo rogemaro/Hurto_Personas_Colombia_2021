{
  "cells": [
    {
      "cell_type": "markdown",
      "metadata": {
        "id": "view-in-github",
        "colab_type": "text"
      },
      "source": [
        "<a href=\"https://colab.research.google.com/github/rogemaro/Hurto_Personas_Colombia_2021/blob/main/Hurto_a_Personas_Colombia_2021.ipynb\" target=\"_parent\"><img src=\"https://colab.research.google.com/assets/colab-badge.svg\" alt=\"Open In Colab\"/></a>"
      ]
    },
    {
      "cell_type": "markdown",
      "metadata": {
        "id": "SQYLWlOd-OgN"
      },
      "source": [
        "# **Hurto a Pesonas Colombia 2021**"
      ]
    },
    {
      "cell_type": "markdown",
      "metadata": {
        "id": "t62CdAmx-X-8"
      },
      "source": [
        "El presente análisis de datos se apoya en los datos proporcionados por la Policina Nacional Colombiana. Se puede recurrir a los mismos en el siguiente enlace: https://www.policia.gov.co/grupo-informacion-criminalidad/estadistica-delictiva"
      ]
    },
    {
      "cell_type": "markdown",
      "metadata": {
        "id": "LKf0McTxnAxx"
      },
      "source": [
        "Los datos aquí presentes hacen referencia a la cantidad de hurtos reportados diariamente a nivel nacional.\n"
      ]
    },
    {
      "cell_type": "markdown",
      "metadata": {
        "id": "OBGbgVwT_Vhr"
      },
      "source": [
        "**1 Configurando el ambiente de trabajo en la nube**"
      ]
    },
    {
      "cell_type": "markdown",
      "metadata": {
        "id": "VXWXVuVS_1jR"
      },
      "source": [
        "Se procede a realizar la configuración de nuestro entorno en la nube, para que se comporte como un entorno local de trabajo y se pueda manejar el sistema de archivos"
      ]
    },
    {
      "cell_type": "code",
      "execution_count": 67,
      "metadata": {
        "colab": {
          "base_uri": "https://localhost:8080/"
        },
        "id": "r2SNQ7i3_b2H",
        "outputId": "9ce6b141-ad95-497e-a877-8c9ab3c46a85"
      },
      "outputs": [
        {
          "output_type": "stream",
          "name": "stdout",
          "text": [
            "Drive already mounted at /content/drive; to attempt to forcibly remount, call drive.mount(\"/content/drive\", force_remount=True).\n"
          ]
        }
      ],
      "source": [
        "from google.colab import drive\n",
        "drive.mount (\"/content/drive\")"
      ]
    },
    {
      "cell_type": "code",
      "execution_count": 68,
      "metadata": {
        "colab": {
          "base_uri": "https://localhost:8080/"
        },
        "id": "IPYG_1wEAE8Q",
        "outputId": "395d823e-adfb-4718-c0e5-1b75408b0f3f"
      },
      "outputs": [
        {
          "output_type": "stream",
          "name": "stdout",
          "text": [
            "/content/drive/My Drive/Colab Notebooks/Personal Projects/data\n",
            "hurto_a_personas.xlsx  hurto_personas_2021.csv\n"
          ]
        }
      ],
      "source": [
        "%cd \"/content/drive/My Drive/Colab Notebooks/Personal Projects/data\"\n",
        "!ls"
      ]
    },
    {
      "cell_type": "markdown",
      "metadata": {
        "id": "x8Sm-kzW-uh0"
      },
      "source": [
        "**2 Cargando Datos**"
      ]
    },
    {
      "cell_type": "code",
      "execution_count": 69,
      "metadata": {
        "id": "wCX7QZxV90aY"
      },
      "outputs": [],
      "source": [
        "# Importamos las librerias que nos van a permitir la manipulación y análisis de los datos\n",
        "import pandas as pd\n",
        "import numpy as np\n",
        "import matplotlib.pyplot as plt\n",
        "import seaborn as sns"
      ]
    },
    {
      "cell_type": "code",
      "execution_count": 70,
      "metadata": {
        "colab": {
          "base_uri": "https://localhost:8080/",
          "height": 423
        },
        "id": "vDJTmf-D_Ne0",
        "outputId": "f960359c-1720-4dd8-b138-f2402cf7e9d6"
      },
      "outputs": [
        {
          "output_type": "execute_result",
          "data": {
            "text/html": [
              "<div>\n",
              "<style scoped>\n",
              "    .dataframe tbody tr th:only-of-type {\n",
              "        vertical-align: middle;\n",
              "    }\n",
              "\n",
              "    .dataframe tbody tr th {\n",
              "        vertical-align: top;\n",
              "    }\n",
              "\n",
              "    .dataframe thead th {\n",
              "        text-align: right;\n",
              "    }\n",
              "</style>\n",
              "<table border=\"1\" class=\"dataframe\">\n",
              "  <thead>\n",
              "    <tr style=\"text-align: right;\">\n",
              "      <th></th>\n",
              "      <th>DEPARTAMENTO</th>\n",
              "      <th>MUNICIPIO</th>\n",
              "      <th>CODIGO_DANE</th>\n",
              "      <th>ARMAS MEDIO</th>\n",
              "      <th>GENERO</th>\n",
              "      <th>*AGRUPA EDAD PERSONA</th>\n",
              "      <th>FECHA HECHO</th>\n",
              "      <th>CANTIDAD</th>\n",
              "    </tr>\n",
              "  </thead>\n",
              "  <tbody>\n",
              "    <tr>\n",
              "      <th>0</th>\n",
              "      <td>AMAZONAS</td>\n",
              "      <td>LETICIA (CT)</td>\n",
              "      <td>91001000</td>\n",
              "      <td>ARMA BLANCA / CORTOPUNZANTE</td>\n",
              "      <td>FEMENINO</td>\n",
              "      <td>ADULTOS</td>\n",
              "      <td>2021-02-12 00:00:00</td>\n",
              "      <td>1.0</td>\n",
              "    </tr>\n",
              "    <tr>\n",
              "      <th>1</th>\n",
              "      <td>AMAZONAS</td>\n",
              "      <td>LETICIA (CT)</td>\n",
              "      <td>91001000</td>\n",
              "      <td>ARMA BLANCA / CORTOPUNZANTE</td>\n",
              "      <td>FEMENINO</td>\n",
              "      <td>ADOLESCENTES</td>\n",
              "      <td>2021-02-24 00:00:00</td>\n",
              "      <td>1.0</td>\n",
              "    </tr>\n",
              "    <tr>\n",
              "      <th>2</th>\n",
              "      <td>AMAZONAS</td>\n",
              "      <td>LETICIA (CT)</td>\n",
              "      <td>91001000</td>\n",
              "      <td>ARMA BLANCA / CORTOPUNZANTE</td>\n",
              "      <td>MASCULINO</td>\n",
              "      <td>ADULTOS</td>\n",
              "      <td>2021-03-11 00:00:00</td>\n",
              "      <td>1.0</td>\n",
              "    </tr>\n",
              "    <tr>\n",
              "      <th>3</th>\n",
              "      <td>AMAZONAS</td>\n",
              "      <td>LETICIA (CT)</td>\n",
              "      <td>91001000</td>\n",
              "      <td>ARMA BLANCA / CORTOPUNZANTE</td>\n",
              "      <td>FEMENINO</td>\n",
              "      <td>ADULTOS</td>\n",
              "      <td>2021-03-21 00:00:00</td>\n",
              "      <td>1.0</td>\n",
              "    </tr>\n",
              "    <tr>\n",
              "      <th>4</th>\n",
              "      <td>AMAZONAS</td>\n",
              "      <td>LETICIA (CT)</td>\n",
              "      <td>91001000</td>\n",
              "      <td>ARMA BLANCA / CORTOPUNZANTE</td>\n",
              "      <td>MASCULINO</td>\n",
              "      <td>ADULTOS</td>\n",
              "      <td>2021-04-03 00:00:00</td>\n",
              "      <td>1.0</td>\n",
              "    </tr>\n",
              "    <tr>\n",
              "      <th>...</th>\n",
              "      <td>...</td>\n",
              "      <td>...</td>\n",
              "      <td>...</td>\n",
              "      <td>...</td>\n",
              "      <td>...</td>\n",
              "      <td>...</td>\n",
              "      <td>...</td>\n",
              "      <td>...</td>\n",
              "    </tr>\n",
              "    <tr>\n",
              "      <th>78696</th>\n",
              "      <td>TOTAL</td>\n",
              "      <td>TOTAL</td>\n",
              "      <td>TOTAL</td>\n",
              "      <td>TOTAL</td>\n",
              "      <td>TOTAL</td>\n",
              "      <td>TOTAL</td>\n",
              "      <td>TOTAL</td>\n",
              "      <td>245911.0</td>\n",
              "    </tr>\n",
              "    <tr>\n",
              "      <th>78697</th>\n",
              "      <td>FUENTE:                            DIJIN-POLIC...</td>\n",
              "      <td>NaN</td>\n",
              "      <td>NaN</td>\n",
              "      <td>NaN</td>\n",
              "      <td>NaN</td>\n",
              "      <td>NaN</td>\n",
              "      <td>NaN</td>\n",
              "      <td>NaN</td>\n",
              "    </tr>\n",
              "    <tr>\n",
              "      <th>78698</th>\n",
              "      <td>*Agrupación referente a la clasificación del c...</td>\n",
              "      <td>NaN</td>\n",
              "      <td>NaN</td>\n",
              "      <td>NaN</td>\n",
              "      <td>NaN</td>\n",
              "      <td>NaN</td>\n",
              "      <td>NaN</td>\n",
              "      <td>NaN</td>\n",
              "    </tr>\n",
              "    <tr>\n",
              "      <th>78699</th>\n",
              "      <td>Elaborado: patrullero José Cañon</td>\n",
              "      <td>NaN</td>\n",
              "      <td>NaN</td>\n",
              "      <td>NaN</td>\n",
              "      <td>NaN</td>\n",
              "      <td>NaN</td>\n",
              "      <td>NaN</td>\n",
              "      <td>NaN</td>\n",
              "    </tr>\n",
              "    <tr>\n",
              "      <th>78700</th>\n",
              "      <td>Revisado: IT Cesar Andres Marquez</td>\n",
              "      <td>NaN</td>\n",
              "      <td>NaN</td>\n",
              "      <td>NaN</td>\n",
              "      <td>NaN</td>\n",
              "      <td>NaN</td>\n",
              "      <td>NaN</td>\n",
              "      <td>NaN</td>\n",
              "    </tr>\n",
              "  </tbody>\n",
              "</table>\n",
              "<p>78701 rows × 8 columns</p>\n",
              "</div>"
            ],
            "text/plain": [
              "                                            DEPARTAMENTO  ... CANTIDAD \n",
              "0                                               AMAZONAS  ...       1.0\n",
              "1                                               AMAZONAS  ...       1.0\n",
              "2                                               AMAZONAS  ...       1.0\n",
              "3                                               AMAZONAS  ...       1.0\n",
              "4                                               AMAZONAS  ...       1.0\n",
              "...                                                  ...  ...       ...\n",
              "78696                                              TOTAL  ...  245911.0\n",
              "78697  FUENTE:                            DIJIN-POLIC...  ...       NaN\n",
              "78698  *Agrupación referente a la clasificación del c...  ...       NaN\n",
              "78699                   Elaborado: patrullero José Cañon  ...       NaN\n",
              "78700                 Revisado: IT Cesar Andres Marquez   ...       NaN\n",
              "\n",
              "[78701 rows x 8 columns]"
            ]
          },
          "metadata": {},
          "execution_count": 70
        }
      ],
      "source": [
        "df_base = pd.read_excel(\"hurto_a_personas.xlsx\", skiprows=9)\n",
        "df_base"
      ]
    },
    {
      "cell_type": "code",
      "execution_count": 71,
      "metadata": {
        "id": "Pni-gEeRBSy2"
      },
      "outputs": [],
      "source": [
        "#cambiamos el formato del archivo de xslx a csv, siendo un formato más adecuado para trabajar de una manera más fluida\n",
        "df_base.to_csv(\"/content/drive/My Drive/Colab Notebooks/Personal Projects/data/hurto_personas_2021.csv\", index = False)"
      ]
    },
    {
      "cell_type": "code",
      "execution_count": 72,
      "metadata": {
        "colab": {
          "base_uri": "https://localhost:8080/"
        },
        "id": "dJB2VI8UE4DV",
        "outputId": "79fcfe6f-682c-4de4-f6fb-84afe0775b38"
      },
      "outputs": [
        {
          "output_type": "stream",
          "name": "stdout",
          "text": [
            "/content/drive/My Drive/Colab Notebooks/Personal Projects/data\n",
            "hurto_a_personas.xlsx  hurto_personas_2021.csv\n"
          ]
        }
      ],
      "source": [
        "%cd \"/content/drive/My Drive/Colab Notebooks/Personal Projects/data\"\n",
        "!ls"
      ]
    },
    {
      "cell_type": "code",
      "execution_count": 73,
      "metadata": {
        "colab": {
          "base_uri": "https://localhost:8080/",
          "height": 457
        },
        "id": "INDhm238Dnmp",
        "outputId": "cf8c6d4d-0d1f-4ef1-ce48-8aaa4d099862"
      },
      "outputs": [
        {
          "output_type": "stream",
          "name": "stderr",
          "text": [
            "/usr/local/lib/python3.7/dist-packages/IPython/core/interactiveshell.py:2718: DtypeWarning: Columns (2) have mixed types.Specify dtype option on import or set low_memory=False.\n",
            "  interactivity=interactivity, compiler=compiler, result=result)\n"
          ]
        },
        {
          "output_type": "execute_result",
          "data": {
            "text/html": [
              "<div>\n",
              "<style scoped>\n",
              "    .dataframe tbody tr th:only-of-type {\n",
              "        vertical-align: middle;\n",
              "    }\n",
              "\n",
              "    .dataframe tbody tr th {\n",
              "        vertical-align: top;\n",
              "    }\n",
              "\n",
              "    .dataframe thead th {\n",
              "        text-align: right;\n",
              "    }\n",
              "</style>\n",
              "<table border=\"1\" class=\"dataframe\">\n",
              "  <thead>\n",
              "    <tr style=\"text-align: right;\">\n",
              "      <th></th>\n",
              "      <th>DEPARTAMENTO</th>\n",
              "      <th>MUNICIPIO</th>\n",
              "      <th>CODIGO_DANE</th>\n",
              "      <th>ARMAS MEDIO</th>\n",
              "      <th>GENERO</th>\n",
              "      <th>*AGRUPA EDAD PERSONA</th>\n",
              "      <th>FECHA HECHO</th>\n",
              "      <th>CANTIDAD</th>\n",
              "    </tr>\n",
              "  </thead>\n",
              "  <tbody>\n",
              "    <tr>\n",
              "      <th>0</th>\n",
              "      <td>AMAZONAS</td>\n",
              "      <td>LETICIA (CT)</td>\n",
              "      <td>91001000</td>\n",
              "      <td>ARMA BLANCA / CORTOPUNZANTE</td>\n",
              "      <td>FEMENINO</td>\n",
              "      <td>ADULTOS</td>\n",
              "      <td>2021-02-12 00:00:00</td>\n",
              "      <td>1.0</td>\n",
              "    </tr>\n",
              "    <tr>\n",
              "      <th>1</th>\n",
              "      <td>AMAZONAS</td>\n",
              "      <td>LETICIA (CT)</td>\n",
              "      <td>91001000</td>\n",
              "      <td>ARMA BLANCA / CORTOPUNZANTE</td>\n",
              "      <td>FEMENINO</td>\n",
              "      <td>ADOLESCENTES</td>\n",
              "      <td>2021-02-24 00:00:00</td>\n",
              "      <td>1.0</td>\n",
              "    </tr>\n",
              "    <tr>\n",
              "      <th>2</th>\n",
              "      <td>AMAZONAS</td>\n",
              "      <td>LETICIA (CT)</td>\n",
              "      <td>91001000</td>\n",
              "      <td>ARMA BLANCA / CORTOPUNZANTE</td>\n",
              "      <td>MASCULINO</td>\n",
              "      <td>ADULTOS</td>\n",
              "      <td>2021-03-11 00:00:00</td>\n",
              "      <td>1.0</td>\n",
              "    </tr>\n",
              "    <tr>\n",
              "      <th>3</th>\n",
              "      <td>AMAZONAS</td>\n",
              "      <td>LETICIA (CT)</td>\n",
              "      <td>91001000</td>\n",
              "      <td>ARMA BLANCA / CORTOPUNZANTE</td>\n",
              "      <td>FEMENINO</td>\n",
              "      <td>ADULTOS</td>\n",
              "      <td>2021-03-21 00:00:00</td>\n",
              "      <td>1.0</td>\n",
              "    </tr>\n",
              "    <tr>\n",
              "      <th>4</th>\n",
              "      <td>AMAZONAS</td>\n",
              "      <td>LETICIA (CT)</td>\n",
              "      <td>91001000</td>\n",
              "      <td>ARMA BLANCA / CORTOPUNZANTE</td>\n",
              "      <td>MASCULINO</td>\n",
              "      <td>ADULTOS</td>\n",
              "      <td>2021-04-03 00:00:00</td>\n",
              "      <td>1.0</td>\n",
              "    </tr>\n",
              "    <tr>\n",
              "      <th>...</th>\n",
              "      <td>...</td>\n",
              "      <td>...</td>\n",
              "      <td>...</td>\n",
              "      <td>...</td>\n",
              "      <td>...</td>\n",
              "      <td>...</td>\n",
              "      <td>...</td>\n",
              "      <td>...</td>\n",
              "    </tr>\n",
              "    <tr>\n",
              "      <th>78696</th>\n",
              "      <td>TOTAL</td>\n",
              "      <td>TOTAL</td>\n",
              "      <td>TOTAL</td>\n",
              "      <td>TOTAL</td>\n",
              "      <td>TOTAL</td>\n",
              "      <td>TOTAL</td>\n",
              "      <td>TOTAL</td>\n",
              "      <td>245911.0</td>\n",
              "    </tr>\n",
              "    <tr>\n",
              "      <th>78697</th>\n",
              "      <td>FUENTE:                            DIJIN-POLIC...</td>\n",
              "      <td>NaN</td>\n",
              "      <td>NaN</td>\n",
              "      <td>NaN</td>\n",
              "      <td>NaN</td>\n",
              "      <td>NaN</td>\n",
              "      <td>NaN</td>\n",
              "      <td>NaN</td>\n",
              "    </tr>\n",
              "    <tr>\n",
              "      <th>78698</th>\n",
              "      <td>*Agrupación referente a la clasificación del c...</td>\n",
              "      <td>NaN</td>\n",
              "      <td>NaN</td>\n",
              "      <td>NaN</td>\n",
              "      <td>NaN</td>\n",
              "      <td>NaN</td>\n",
              "      <td>NaN</td>\n",
              "      <td>NaN</td>\n",
              "    </tr>\n",
              "    <tr>\n",
              "      <th>78699</th>\n",
              "      <td>Elaborado: patrullero José Cañon</td>\n",
              "      <td>NaN</td>\n",
              "      <td>NaN</td>\n",
              "      <td>NaN</td>\n",
              "      <td>NaN</td>\n",
              "      <td>NaN</td>\n",
              "      <td>NaN</td>\n",
              "      <td>NaN</td>\n",
              "    </tr>\n",
              "    <tr>\n",
              "      <th>78700</th>\n",
              "      <td>Revisado: IT Cesar Andres Marquez</td>\n",
              "      <td>NaN</td>\n",
              "      <td>NaN</td>\n",
              "      <td>NaN</td>\n",
              "      <td>NaN</td>\n",
              "      <td>NaN</td>\n",
              "      <td>NaN</td>\n",
              "      <td>NaN</td>\n",
              "    </tr>\n",
              "  </tbody>\n",
              "</table>\n",
              "<p>78701 rows × 8 columns</p>\n",
              "</div>"
            ],
            "text/plain": [
              "                                            DEPARTAMENTO  ... CANTIDAD \n",
              "0                                               AMAZONAS  ...       1.0\n",
              "1                                               AMAZONAS  ...       1.0\n",
              "2                                               AMAZONAS  ...       1.0\n",
              "3                                               AMAZONAS  ...       1.0\n",
              "4                                               AMAZONAS  ...       1.0\n",
              "...                                                  ...  ...       ...\n",
              "78696                                              TOTAL  ...  245911.0\n",
              "78697  FUENTE:                            DIJIN-POLIC...  ...       NaN\n",
              "78698  *Agrupación referente a la clasificación del c...  ...       NaN\n",
              "78699                   Elaborado: patrullero José Cañon  ...       NaN\n",
              "78700                 Revisado: IT Cesar Andres Marquez   ...       NaN\n",
              "\n",
              "[78701 rows x 8 columns]"
            ]
          },
          "metadata": {},
          "execution_count": 73
        }
      ],
      "source": [
        "df_original = pd.read_csv(\"hurto_personas_2021.csv\") #al ejecutar el código nos lanza na advertencia donde nos indica que no entiende el formato de ls valores, eso se debe a las últimas filas\n",
        "df_original"
      ]
    },
    {
      "cell_type": "code",
      "execution_count": 74,
      "metadata": {
        "colab": {
          "base_uri": "https://localhost:8080/",
          "height": 423
        },
        "id": "BABjQPapE0uZ",
        "outputId": "c5580c4b-94f1-485f-9609-7cfe3dca0c5d"
      },
      "outputs": [
        {
          "output_type": "execute_result",
          "data": {
            "text/html": [
              "<div>\n",
              "<style scoped>\n",
              "    .dataframe tbody tr th:only-of-type {\n",
              "        vertical-align: middle;\n",
              "    }\n",
              "\n",
              "    .dataframe tbody tr th {\n",
              "        vertical-align: top;\n",
              "    }\n",
              "\n",
              "    .dataframe thead th {\n",
              "        text-align: right;\n",
              "    }\n",
              "</style>\n",
              "<table border=\"1\" class=\"dataframe\">\n",
              "  <thead>\n",
              "    <tr style=\"text-align: right;\">\n",
              "      <th></th>\n",
              "      <th>DEPARTAMENTO</th>\n",
              "      <th>MUNICIPIO</th>\n",
              "      <th>CODIGO_DANE</th>\n",
              "      <th>ARMAS MEDIO</th>\n",
              "      <th>GENERO</th>\n",
              "      <th>*AGRUPA EDAD PERSONA</th>\n",
              "      <th>FECHA HECHO</th>\n",
              "      <th>CANTIDAD</th>\n",
              "    </tr>\n",
              "  </thead>\n",
              "  <tbody>\n",
              "    <tr>\n",
              "      <th>0</th>\n",
              "      <td>AMAZONAS</td>\n",
              "      <td>LETICIA (CT)</td>\n",
              "      <td>91001000</td>\n",
              "      <td>ARMA BLANCA / CORTOPUNZANTE</td>\n",
              "      <td>FEMENINO</td>\n",
              "      <td>ADULTOS</td>\n",
              "      <td>2021-02-12 00:00:00</td>\n",
              "      <td>1.0</td>\n",
              "    </tr>\n",
              "    <tr>\n",
              "      <th>1</th>\n",
              "      <td>AMAZONAS</td>\n",
              "      <td>LETICIA (CT)</td>\n",
              "      <td>91001000</td>\n",
              "      <td>ARMA BLANCA / CORTOPUNZANTE</td>\n",
              "      <td>FEMENINO</td>\n",
              "      <td>ADOLESCENTES</td>\n",
              "      <td>2021-02-24 00:00:00</td>\n",
              "      <td>1.0</td>\n",
              "    </tr>\n",
              "    <tr>\n",
              "      <th>2</th>\n",
              "      <td>AMAZONAS</td>\n",
              "      <td>LETICIA (CT)</td>\n",
              "      <td>91001000</td>\n",
              "      <td>ARMA BLANCA / CORTOPUNZANTE</td>\n",
              "      <td>MASCULINO</td>\n",
              "      <td>ADULTOS</td>\n",
              "      <td>2021-03-11 00:00:00</td>\n",
              "      <td>1.0</td>\n",
              "    </tr>\n",
              "    <tr>\n",
              "      <th>3</th>\n",
              "      <td>AMAZONAS</td>\n",
              "      <td>LETICIA (CT)</td>\n",
              "      <td>91001000</td>\n",
              "      <td>ARMA BLANCA / CORTOPUNZANTE</td>\n",
              "      <td>FEMENINO</td>\n",
              "      <td>ADULTOS</td>\n",
              "      <td>2021-03-21 00:00:00</td>\n",
              "      <td>1.0</td>\n",
              "    </tr>\n",
              "    <tr>\n",
              "      <th>4</th>\n",
              "      <td>AMAZONAS</td>\n",
              "      <td>LETICIA (CT)</td>\n",
              "      <td>91001000</td>\n",
              "      <td>ARMA BLANCA / CORTOPUNZANTE</td>\n",
              "      <td>MASCULINO</td>\n",
              "      <td>ADULTOS</td>\n",
              "      <td>2021-04-03 00:00:00</td>\n",
              "      <td>1.0</td>\n",
              "    </tr>\n",
              "    <tr>\n",
              "      <th>...</th>\n",
              "      <td>...</td>\n",
              "      <td>...</td>\n",
              "      <td>...</td>\n",
              "      <td>...</td>\n",
              "      <td>...</td>\n",
              "      <td>...</td>\n",
              "      <td>...</td>\n",
              "      <td>...</td>\n",
              "    </tr>\n",
              "    <tr>\n",
              "      <th>78696</th>\n",
              "      <td>TOTAL</td>\n",
              "      <td>TOTAL</td>\n",
              "      <td>TOTAL</td>\n",
              "      <td>TOTAL</td>\n",
              "      <td>TOTAL</td>\n",
              "      <td>TOTAL</td>\n",
              "      <td>TOTAL</td>\n",
              "      <td>245911.0</td>\n",
              "    </tr>\n",
              "    <tr>\n",
              "      <th>78697</th>\n",
              "      <td>FUENTE:                            DIJIN-POLIC...</td>\n",
              "      <td>NaN</td>\n",
              "      <td>NaN</td>\n",
              "      <td>NaN</td>\n",
              "      <td>NaN</td>\n",
              "      <td>NaN</td>\n",
              "      <td>NaN</td>\n",
              "      <td>NaN</td>\n",
              "    </tr>\n",
              "    <tr>\n",
              "      <th>78698</th>\n",
              "      <td>*Agrupación referente a la clasificación del c...</td>\n",
              "      <td>NaN</td>\n",
              "      <td>NaN</td>\n",
              "      <td>NaN</td>\n",
              "      <td>NaN</td>\n",
              "      <td>NaN</td>\n",
              "      <td>NaN</td>\n",
              "      <td>NaN</td>\n",
              "    </tr>\n",
              "    <tr>\n",
              "      <th>78699</th>\n",
              "      <td>Elaborado: patrullero José Cañon</td>\n",
              "      <td>NaN</td>\n",
              "      <td>NaN</td>\n",
              "      <td>NaN</td>\n",
              "      <td>NaN</td>\n",
              "      <td>NaN</td>\n",
              "      <td>NaN</td>\n",
              "      <td>NaN</td>\n",
              "    </tr>\n",
              "    <tr>\n",
              "      <th>78700</th>\n",
              "      <td>Revisado: IT Cesar Andres Marquez</td>\n",
              "      <td>NaN</td>\n",
              "      <td>NaN</td>\n",
              "      <td>NaN</td>\n",
              "      <td>NaN</td>\n",
              "      <td>NaN</td>\n",
              "      <td>NaN</td>\n",
              "      <td>NaN</td>\n",
              "    </tr>\n",
              "  </tbody>\n",
              "</table>\n",
              "<p>78701 rows × 8 columns</p>\n",
              "</div>"
            ],
            "text/plain": [
              "                                            DEPARTAMENTO  ... CANTIDAD \n",
              "0                                               AMAZONAS  ...       1.0\n",
              "1                                               AMAZONAS  ...       1.0\n",
              "2                                               AMAZONAS  ...       1.0\n",
              "3                                               AMAZONAS  ...       1.0\n",
              "4                                               AMAZONAS  ...       1.0\n",
              "...                                                  ...  ...       ...\n",
              "78696                                              TOTAL  ...  245911.0\n",
              "78697  FUENTE:                            DIJIN-POLIC...  ...       NaN\n",
              "78698  *Agrupación referente a la clasificación del c...  ...       NaN\n",
              "78699                   Elaborado: patrullero José Cañon  ...       NaN\n",
              "78700                 Revisado: IT Cesar Andres Marquez   ...       NaN\n",
              "\n",
              "[78701 rows x 8 columns]"
            ]
          },
          "metadata": {},
          "execution_count": 74
        }
      ],
      "source": [
        "#Realizamos una copia profunda para no alterar el data frame original\n",
        "df = df_original.copy(deep=True)\n",
        "df"
      ]
    },
    {
      "cell_type": "code",
      "execution_count": 75,
      "metadata": {
        "colab": {
          "base_uri": "https://localhost:8080/",
          "height": 363
        },
        "id": "SbZVlefHF7UU",
        "outputId": "fde28e51-d1f0-41c9-ad54-aa3121c3b40b"
      },
      "outputs": [
        {
          "output_type": "execute_result",
          "data": {
            "text/html": [
              "<div>\n",
              "<style scoped>\n",
              "    .dataframe tbody tr th:only-of-type {\n",
              "        vertical-align: middle;\n",
              "    }\n",
              "\n",
              "    .dataframe tbody tr th {\n",
              "        vertical-align: top;\n",
              "    }\n",
              "\n",
              "    .dataframe thead th {\n",
              "        text-align: right;\n",
              "    }\n",
              "</style>\n",
              "<table border=\"1\" class=\"dataframe\">\n",
              "  <thead>\n",
              "    <tr style=\"text-align: right;\">\n",
              "      <th></th>\n",
              "      <th>DEPARTAMENTO</th>\n",
              "      <th>MUNICIPIO</th>\n",
              "      <th>CODIGO_DANE</th>\n",
              "      <th>ARMAS MEDIO</th>\n",
              "      <th>GENERO</th>\n",
              "      <th>*AGRUPA EDAD PERSONA</th>\n",
              "      <th>FECHA HECHO</th>\n",
              "      <th>CANTIDAD</th>\n",
              "    </tr>\n",
              "  </thead>\n",
              "  <tbody>\n",
              "    <tr>\n",
              "      <th>78691</th>\n",
              "      <td>VALLE</td>\n",
              "      <td>GUADALAJARA DE BUGA</td>\n",
              "      <td>76111000</td>\n",
              "      <td>NO  REPORTADO</td>\n",
              "      <td>MASCULINO</td>\n",
              "      <td>ADULTOS</td>\n",
              "      <td>2021-11-28 00:00:00</td>\n",
              "      <td>1.0</td>\n",
              "    </tr>\n",
              "    <tr>\n",
              "      <th>78692</th>\n",
              "      <td>VALLE</td>\n",
              "      <td>PALMIRA</td>\n",
              "      <td>76520000</td>\n",
              "      <td>NO  REPORTADO</td>\n",
              "      <td>FEMENINO</td>\n",
              "      <td>ADULTOS</td>\n",
              "      <td>2021-10-28 00:00:00</td>\n",
              "      <td>1.0</td>\n",
              "    </tr>\n",
              "    <tr>\n",
              "      <th>78693</th>\n",
              "      <td>VALLE</td>\n",
              "      <td>PALMIRA</td>\n",
              "      <td>76520000</td>\n",
              "      <td>NO  REPORTADO</td>\n",
              "      <td>MASCULINO</td>\n",
              "      <td>ADULTOS</td>\n",
              "      <td>2021-11-24 00:00:00</td>\n",
              "      <td>1.0</td>\n",
              "    </tr>\n",
              "    <tr>\n",
              "      <th>78694</th>\n",
              "      <td>VALLE</td>\n",
              "      <td>PRADERA</td>\n",
              "      <td>76563000</td>\n",
              "      <td>NO  REPORTADO</td>\n",
              "      <td>MASCULINO</td>\n",
              "      <td>ADULTOS</td>\n",
              "      <td>2021-07-20 00:00:00</td>\n",
              "      <td>1.0</td>\n",
              "    </tr>\n",
              "    <tr>\n",
              "      <th>78695</th>\n",
              "      <td>VICHADA</td>\n",
              "      <td>PUERTO CARREÑO (CT)</td>\n",
              "      <td>99001000</td>\n",
              "      <td>NO  REPORTADO</td>\n",
              "      <td>FEMENINO</td>\n",
              "      <td>ADULTOS</td>\n",
              "      <td>2021-05-25 00:00:00</td>\n",
              "      <td>1.0</td>\n",
              "    </tr>\n",
              "    <tr>\n",
              "      <th>78696</th>\n",
              "      <td>TOTAL</td>\n",
              "      <td>TOTAL</td>\n",
              "      <td>TOTAL</td>\n",
              "      <td>TOTAL</td>\n",
              "      <td>TOTAL</td>\n",
              "      <td>TOTAL</td>\n",
              "      <td>TOTAL</td>\n",
              "      <td>245911.0</td>\n",
              "    </tr>\n",
              "    <tr>\n",
              "      <th>78697</th>\n",
              "      <td>FUENTE:                            DIJIN-POLIC...</td>\n",
              "      <td>NaN</td>\n",
              "      <td>NaN</td>\n",
              "      <td>NaN</td>\n",
              "      <td>NaN</td>\n",
              "      <td>NaN</td>\n",
              "      <td>NaN</td>\n",
              "      <td>NaN</td>\n",
              "    </tr>\n",
              "    <tr>\n",
              "      <th>78698</th>\n",
              "      <td>*Agrupación referente a la clasificación del c...</td>\n",
              "      <td>NaN</td>\n",
              "      <td>NaN</td>\n",
              "      <td>NaN</td>\n",
              "      <td>NaN</td>\n",
              "      <td>NaN</td>\n",
              "      <td>NaN</td>\n",
              "      <td>NaN</td>\n",
              "    </tr>\n",
              "    <tr>\n",
              "      <th>78699</th>\n",
              "      <td>Elaborado: patrullero José Cañon</td>\n",
              "      <td>NaN</td>\n",
              "      <td>NaN</td>\n",
              "      <td>NaN</td>\n",
              "      <td>NaN</td>\n",
              "      <td>NaN</td>\n",
              "      <td>NaN</td>\n",
              "      <td>NaN</td>\n",
              "    </tr>\n",
              "    <tr>\n",
              "      <th>78700</th>\n",
              "      <td>Revisado: IT Cesar Andres Marquez</td>\n",
              "      <td>NaN</td>\n",
              "      <td>NaN</td>\n",
              "      <td>NaN</td>\n",
              "      <td>NaN</td>\n",
              "      <td>NaN</td>\n",
              "      <td>NaN</td>\n",
              "      <td>NaN</td>\n",
              "    </tr>\n",
              "  </tbody>\n",
              "</table>\n",
              "</div>"
            ],
            "text/plain": [
              "                                            DEPARTAMENTO  ... CANTIDAD \n",
              "78691                                              VALLE  ...       1.0\n",
              "78692                                              VALLE  ...       1.0\n",
              "78693                                              VALLE  ...       1.0\n",
              "78694                                              VALLE  ...       1.0\n",
              "78695                                            VICHADA  ...       1.0\n",
              "78696                                              TOTAL  ...  245911.0\n",
              "78697  FUENTE:                            DIJIN-POLIC...  ...       NaN\n",
              "78698  *Agrupación referente a la clasificación del c...  ...       NaN\n",
              "78699                   Elaborado: patrullero José Cañon  ...       NaN\n",
              "78700                 Revisado: IT Cesar Andres Marquez   ...       NaN\n",
              "\n",
              "[10 rows x 8 columns]"
            ]
          },
          "metadata": {},
          "execution_count": 75
        }
      ],
      "source": [
        "df.tail(10)\n"
      ]
    },
    {
      "cell_type": "code",
      "execution_count": 76,
      "metadata": {
        "id": "7wxbIpDRG1tl"
      },
      "outputs": [],
      "source": [
        "df.drop([78696, 78697, 78698, 78699, 78700], axis = 0, inplace = True) #eliminamos las ultimas 5 columnas que no tienen relevancia y generan ruido en la exploración de la base de datos"
      ]
    },
    {
      "cell_type": "code",
      "execution_count": 77,
      "metadata": {
        "colab": {
          "base_uri": "https://localhost:8080/",
          "height": 423
        },
        "id": "Tj2MUlfPIQ5v",
        "outputId": "7f29407b-5552-4d22-bfd8-835f07414c2d"
      },
      "outputs": [
        {
          "output_type": "execute_result",
          "data": {
            "text/html": [
              "<div>\n",
              "<style scoped>\n",
              "    .dataframe tbody tr th:only-of-type {\n",
              "        vertical-align: middle;\n",
              "    }\n",
              "\n",
              "    .dataframe tbody tr th {\n",
              "        vertical-align: top;\n",
              "    }\n",
              "\n",
              "    .dataframe thead th {\n",
              "        text-align: right;\n",
              "    }\n",
              "</style>\n",
              "<table border=\"1\" class=\"dataframe\">\n",
              "  <thead>\n",
              "    <tr style=\"text-align: right;\">\n",
              "      <th></th>\n",
              "      <th>DEPARTAMENTO</th>\n",
              "      <th>MUNICIPIO</th>\n",
              "      <th>CODIGO_DANE</th>\n",
              "      <th>ARMAS MEDIO</th>\n",
              "      <th>GENERO</th>\n",
              "      <th>*AGRUPA EDAD PERSONA</th>\n",
              "      <th>FECHA HECHO</th>\n",
              "      <th>CANTIDAD</th>\n",
              "    </tr>\n",
              "  </thead>\n",
              "  <tbody>\n",
              "    <tr>\n",
              "      <th>0</th>\n",
              "      <td>AMAZONAS</td>\n",
              "      <td>LETICIA (CT)</td>\n",
              "      <td>91001000</td>\n",
              "      <td>ARMA BLANCA / CORTOPUNZANTE</td>\n",
              "      <td>FEMENINO</td>\n",
              "      <td>ADULTOS</td>\n",
              "      <td>2021-02-12 00:00:00</td>\n",
              "      <td>1.0</td>\n",
              "    </tr>\n",
              "    <tr>\n",
              "      <th>1</th>\n",
              "      <td>AMAZONAS</td>\n",
              "      <td>LETICIA (CT)</td>\n",
              "      <td>91001000</td>\n",
              "      <td>ARMA BLANCA / CORTOPUNZANTE</td>\n",
              "      <td>FEMENINO</td>\n",
              "      <td>ADOLESCENTES</td>\n",
              "      <td>2021-02-24 00:00:00</td>\n",
              "      <td>1.0</td>\n",
              "    </tr>\n",
              "    <tr>\n",
              "      <th>2</th>\n",
              "      <td>AMAZONAS</td>\n",
              "      <td>LETICIA (CT)</td>\n",
              "      <td>91001000</td>\n",
              "      <td>ARMA BLANCA / CORTOPUNZANTE</td>\n",
              "      <td>MASCULINO</td>\n",
              "      <td>ADULTOS</td>\n",
              "      <td>2021-03-11 00:00:00</td>\n",
              "      <td>1.0</td>\n",
              "    </tr>\n",
              "    <tr>\n",
              "      <th>3</th>\n",
              "      <td>AMAZONAS</td>\n",
              "      <td>LETICIA (CT)</td>\n",
              "      <td>91001000</td>\n",
              "      <td>ARMA BLANCA / CORTOPUNZANTE</td>\n",
              "      <td>FEMENINO</td>\n",
              "      <td>ADULTOS</td>\n",
              "      <td>2021-03-21 00:00:00</td>\n",
              "      <td>1.0</td>\n",
              "    </tr>\n",
              "    <tr>\n",
              "      <th>4</th>\n",
              "      <td>AMAZONAS</td>\n",
              "      <td>LETICIA (CT)</td>\n",
              "      <td>91001000</td>\n",
              "      <td>ARMA BLANCA / CORTOPUNZANTE</td>\n",
              "      <td>MASCULINO</td>\n",
              "      <td>ADULTOS</td>\n",
              "      <td>2021-04-03 00:00:00</td>\n",
              "      <td>1.0</td>\n",
              "    </tr>\n",
              "    <tr>\n",
              "      <th>...</th>\n",
              "      <td>...</td>\n",
              "      <td>...</td>\n",
              "      <td>...</td>\n",
              "      <td>...</td>\n",
              "      <td>...</td>\n",
              "      <td>...</td>\n",
              "      <td>...</td>\n",
              "      <td>...</td>\n",
              "    </tr>\n",
              "    <tr>\n",
              "      <th>78691</th>\n",
              "      <td>VALLE</td>\n",
              "      <td>GUADALAJARA DE BUGA</td>\n",
              "      <td>76111000</td>\n",
              "      <td>NO  REPORTADO</td>\n",
              "      <td>MASCULINO</td>\n",
              "      <td>ADULTOS</td>\n",
              "      <td>2021-11-28 00:00:00</td>\n",
              "      <td>1.0</td>\n",
              "    </tr>\n",
              "    <tr>\n",
              "      <th>78692</th>\n",
              "      <td>VALLE</td>\n",
              "      <td>PALMIRA</td>\n",
              "      <td>76520000</td>\n",
              "      <td>NO  REPORTADO</td>\n",
              "      <td>FEMENINO</td>\n",
              "      <td>ADULTOS</td>\n",
              "      <td>2021-10-28 00:00:00</td>\n",
              "      <td>1.0</td>\n",
              "    </tr>\n",
              "    <tr>\n",
              "      <th>78693</th>\n",
              "      <td>VALLE</td>\n",
              "      <td>PALMIRA</td>\n",
              "      <td>76520000</td>\n",
              "      <td>NO  REPORTADO</td>\n",
              "      <td>MASCULINO</td>\n",
              "      <td>ADULTOS</td>\n",
              "      <td>2021-11-24 00:00:00</td>\n",
              "      <td>1.0</td>\n",
              "    </tr>\n",
              "    <tr>\n",
              "      <th>78694</th>\n",
              "      <td>VALLE</td>\n",
              "      <td>PRADERA</td>\n",
              "      <td>76563000</td>\n",
              "      <td>NO  REPORTADO</td>\n",
              "      <td>MASCULINO</td>\n",
              "      <td>ADULTOS</td>\n",
              "      <td>2021-07-20 00:00:00</td>\n",
              "      <td>1.0</td>\n",
              "    </tr>\n",
              "    <tr>\n",
              "      <th>78695</th>\n",
              "      <td>VICHADA</td>\n",
              "      <td>PUERTO CARREÑO (CT)</td>\n",
              "      <td>99001000</td>\n",
              "      <td>NO  REPORTADO</td>\n",
              "      <td>FEMENINO</td>\n",
              "      <td>ADULTOS</td>\n",
              "      <td>2021-05-25 00:00:00</td>\n",
              "      <td>1.0</td>\n",
              "    </tr>\n",
              "  </tbody>\n",
              "</table>\n",
              "<p>78696 rows × 8 columns</p>\n",
              "</div>"
            ],
            "text/plain": [
              "      DEPARTAMENTO            MUNICIPIO  ...          FECHA HECHO CANTIDAD \n",
              "0         AMAZONAS         LETICIA (CT)  ...  2021-02-12 00:00:00       1.0\n",
              "1         AMAZONAS         LETICIA (CT)  ...  2021-02-24 00:00:00       1.0\n",
              "2         AMAZONAS         LETICIA (CT)  ...  2021-03-11 00:00:00       1.0\n",
              "3         AMAZONAS         LETICIA (CT)  ...  2021-03-21 00:00:00       1.0\n",
              "4         AMAZONAS         LETICIA (CT)  ...  2021-04-03 00:00:00       1.0\n",
              "...            ...                  ...  ...                  ...       ...\n",
              "78691        VALLE  GUADALAJARA DE BUGA  ...  2021-11-28 00:00:00       1.0\n",
              "78692        VALLE              PALMIRA  ...  2021-10-28 00:00:00       1.0\n",
              "78693        VALLE              PALMIRA  ...  2021-11-24 00:00:00       1.0\n",
              "78694        VALLE              PRADERA  ...  2021-07-20 00:00:00       1.0\n",
              "78695      VICHADA  PUERTO CARREÑO (CT)  ...  2021-05-25 00:00:00       1.0\n",
              "\n",
              "[78696 rows x 8 columns]"
            ]
          },
          "metadata": {},
          "execution_count": 77
        }
      ],
      "source": [
        "df"
      ]
    },
    {
      "cell_type": "markdown",
      "metadata": {
        "id": "R7-HHhHIJuSO"
      },
      "source": [
        "**3 Exploración de los datos**"
      ]
    },
    {
      "cell_type": "code",
      "execution_count": 78,
      "metadata": {
        "colab": {
          "base_uri": "https://localhost:8080/"
        },
        "id": "SxMaNi4fItP4",
        "outputId": "0dc4351b-4c76-4e98-bfa3-967925177d01"
      },
      "outputs": [
        {
          "output_type": "execute_result",
          "data": {
            "text/plain": [
              "Index(['DEPARTAMENTO', 'MUNICIPIO', 'CODIGO_DANE', 'ARMAS MEDIO', 'GENERO',\n",
              "       '*AGRUPA EDAD PERSONA', 'FECHA HECHO', 'CANTIDAD '],\n",
              "      dtype='object')"
            ]
          },
          "metadata": {},
          "execution_count": 78
        }
      ],
      "source": [
        "#Qué columnas tienen los datos?\n",
        "df.columns"
      ]
    },
    {
      "cell_type": "markdown",
      "metadata": {
        "id": "qkK1LNK4ng6d"
      },
      "source": [
        "Al inspeccionar las columnas, nos ofrece una información de las variables que se relacionan al momento de reportar un hurto, en las cuales se clasifican por departamento, municipio, codigo porporcionado por el DANE para clasificar al municipio, las armas o tipo de modalidad que se utilizó para cometer el delito, el género de la persona quién comete el delito, edad de la persona quién comete el délito, la fecha diaria y cantidad de hurtos."
      ]
    },
    {
      "cell_type": "code",
      "execution_count": 79,
      "metadata": {
        "colab": {
          "base_uri": "https://localhost:8080/"
        },
        "id": "pM_N6goVKJY1",
        "outputId": "3a79bf69-8e1d-44ac-fab0-d773d2a4f466"
      },
      "outputs": [
        {
          "output_type": "execute_result",
          "data": {
            "text/plain": [
              "(78696, 8)"
            ]
          },
          "metadata": {},
          "execution_count": 79
        }
      ],
      "source": [
        "#Qué tamaño tienen los datos\n",
        "df.shape"
      ]
    },
    {
      "cell_type": "code",
      "execution_count": 80,
      "metadata": {
        "colab": {
          "base_uri": "https://localhost:8080/"
        },
        "id": "lHZ3I13DKTxE",
        "outputId": "a4f2ed15-a4ae-494f-f90e-faf4225fc9c8"
      },
      "outputs": [
        {
          "output_type": "stream",
          "name": "stdout",
          "text": [
            "<class 'pandas.core.frame.DataFrame'>\n",
            "Int64Index: 78696 entries, 0 to 78695\n",
            "Data columns (total 8 columns):\n",
            " #   Column                Non-Null Count  Dtype  \n",
            "---  ------                --------------  -----  \n",
            " 0   DEPARTAMENTO          78696 non-null  object \n",
            " 1   MUNICIPIO             78696 non-null  object \n",
            " 2   CODIGO_DANE           78696 non-null  object \n",
            " 3   ARMAS MEDIO           78696 non-null  object \n",
            " 4   GENERO                78696 non-null  object \n",
            " 5   *AGRUPA EDAD PERSONA  78696 non-null  object \n",
            " 6   FECHA HECHO           78696 non-null  object \n",
            " 7   CANTIDAD              78696 non-null  float64\n",
            "dtypes: float64(1), object(7)\n",
            "memory usage: 5.4+ MB\n"
          ]
        }
      ],
      "source": [
        "#Hay valores nulos en los datos\n",
        "df.info()"
      ]
    },
    {
      "cell_type": "code",
      "execution_count": 81,
      "metadata": {
        "colab": {
          "base_uri": "https://localhost:8080/",
          "height": 300
        },
        "id": "fNGJsDIwKs2p",
        "outputId": "50d262de-696a-4fee-9cfe-5b4654f4bf7d"
      },
      "outputs": [
        {
          "output_type": "execute_result",
          "data": {
            "text/html": [
              "<div>\n",
              "<style scoped>\n",
              "    .dataframe tbody tr th:only-of-type {\n",
              "        vertical-align: middle;\n",
              "    }\n",
              "\n",
              "    .dataframe tbody tr th {\n",
              "        vertical-align: top;\n",
              "    }\n",
              "\n",
              "    .dataframe thead th {\n",
              "        text-align: right;\n",
              "    }\n",
              "</style>\n",
              "<table border=\"1\" class=\"dataframe\">\n",
              "  <thead>\n",
              "    <tr style=\"text-align: right;\">\n",
              "      <th></th>\n",
              "      <th>CANTIDAD</th>\n",
              "    </tr>\n",
              "  </thead>\n",
              "  <tbody>\n",
              "    <tr>\n",
              "      <th>count</th>\n",
              "      <td>78696.000000</td>\n",
              "    </tr>\n",
              "    <tr>\n",
              "      <th>mean</th>\n",
              "      <td>3.124822</td>\n",
              "    </tr>\n",
              "    <tr>\n",
              "      <th>std</th>\n",
              "      <td>8.656191</td>\n",
              "    </tr>\n",
              "    <tr>\n",
              "      <th>min</th>\n",
              "      <td>1.000000</td>\n",
              "    </tr>\n",
              "    <tr>\n",
              "      <th>25%</th>\n",
              "      <td>1.000000</td>\n",
              "    </tr>\n",
              "    <tr>\n",
              "      <th>50%</th>\n",
              "      <td>1.000000</td>\n",
              "    </tr>\n",
              "    <tr>\n",
              "      <th>75%</th>\n",
              "      <td>2.000000</td>\n",
              "    </tr>\n",
              "    <tr>\n",
              "      <th>max</th>\n",
              "      <td>140.000000</td>\n",
              "    </tr>\n",
              "  </tbody>\n",
              "</table>\n",
              "</div>"
            ],
            "text/plain": [
              "          CANTIDAD \n",
              "count  78696.000000\n",
              "mean       3.124822\n",
              "std        8.656191\n",
              "min        1.000000\n",
              "25%        1.000000\n",
              "50%        1.000000\n",
              "75%        2.000000\n",
              "max      140.000000"
            ]
          },
          "metadata": {},
          "execution_count": 81
        }
      ],
      "source": [
        "#cómo se distribuyen las variables númericas\n",
        "df.describe()"
      ]
    },
    {
      "cell_type": "code",
      "execution_count": 82,
      "metadata": {
        "colab": {
          "base_uri": "https://localhost:8080/",
          "height": 174
        },
        "id": "1odfP8ZZLS34",
        "outputId": "471d6e06-0c93-4504-a0f7-ea925dd287be"
      },
      "outputs": [
        {
          "output_type": "execute_result",
          "data": {
            "text/html": [
              "<div>\n",
              "<style scoped>\n",
              "    .dataframe tbody tr th:only-of-type {\n",
              "        vertical-align: middle;\n",
              "    }\n",
              "\n",
              "    .dataframe tbody tr th {\n",
              "        vertical-align: top;\n",
              "    }\n",
              "\n",
              "    .dataframe thead th {\n",
              "        text-align: right;\n",
              "    }\n",
              "</style>\n",
              "<table border=\"1\" class=\"dataframe\">\n",
              "  <thead>\n",
              "    <tr style=\"text-align: right;\">\n",
              "      <th></th>\n",
              "      <th>DEPARTAMENTO</th>\n",
              "      <th>MUNICIPIO</th>\n",
              "      <th>CODIGO_DANE</th>\n",
              "      <th>ARMAS MEDIO</th>\n",
              "      <th>GENERO</th>\n",
              "      <th>*AGRUPA EDAD PERSONA</th>\n",
              "      <th>FECHA HECHO</th>\n",
              "    </tr>\n",
              "  </thead>\n",
              "  <tbody>\n",
              "    <tr>\n",
              "      <th>count</th>\n",
              "      <td>78696</td>\n",
              "      <td>78696</td>\n",
              "      <td>78696</td>\n",
              "      <td>78696</td>\n",
              "      <td>78696</td>\n",
              "      <td>78696</td>\n",
              "      <td>78696</td>\n",
              "    </tr>\n",
              "    <tr>\n",
              "      <th>unique</th>\n",
              "      <td>32</td>\n",
              "      <td>914</td>\n",
              "      <td>1314</td>\n",
              "      <td>10</td>\n",
              "      <td>3</td>\n",
              "      <td>4</td>\n",
              "      <td>334</td>\n",
              "    </tr>\n",
              "    <tr>\n",
              "      <th>top</th>\n",
              "      <td>CUNDINAMARCA</td>\n",
              "      <td>BOGOTÁ D.C. (CT)</td>\n",
              "      <td>11001000</td>\n",
              "      <td>SIN EMPLEO DE ARMAS</td>\n",
              "      <td>MASCULINO</td>\n",
              "      <td>ADULTOS</td>\n",
              "      <td>2021-10-16 00:00:00</td>\n",
              "    </tr>\n",
              "    <tr>\n",
              "      <th>freq</th>\n",
              "      <td>13982</td>\n",
              "      <td>4209</td>\n",
              "      <td>4027</td>\n",
              "      <td>34681</td>\n",
              "      <td>45374</td>\n",
              "      <td>76470</td>\n",
              "      <td>315</td>\n",
              "    </tr>\n",
              "  </tbody>\n",
              "</table>\n",
              "</div>"
            ],
            "text/plain": [
              "        DEPARTAMENTO  ...          FECHA HECHO\n",
              "count          78696  ...                78696\n",
              "unique            32  ...                  334\n",
              "top     CUNDINAMARCA  ...  2021-10-16 00:00:00\n",
              "freq           13982  ...                  315\n",
              "\n",
              "[4 rows x 7 columns]"
            ]
          },
          "metadata": {},
          "execution_count": 82
        }
      ],
      "source": [
        "#Cómo se describen las variables categóricas\n",
        "df.describe(include=[\"O\"])"
      ]
    },
    {
      "cell_type": "markdown",
      "metadata": {
        "id": "-NdiLdK4NpCC"
      },
      "source": [
        "**3.1 Procesamiento de datos**"
      ]
    },
    {
      "cell_type": "code",
      "execution_count": 83,
      "metadata": {
        "id": "VysF1PRAMSyn"
      },
      "outputs": [],
      "source": [
        "#del análisis anterior me permite determinar que la variable de CODIGO_DANE es innecesaria y se procede a su eliminación\n",
        "df.drop([\"CODIGO_DANE\"], axis = 1, inplace = True)"
      ]
    },
    {
      "cell_type": "code",
      "execution_count": 84,
      "metadata": {
        "colab": {
          "base_uri": "https://localhost:8080/",
          "height": 81
        },
        "id": "FHmkS3SdN6Ah",
        "outputId": "512d1975-8573-428b-c995-0be5c8d582f9"
      },
      "outputs": [
        {
          "output_type": "execute_result",
          "data": {
            "text/html": [
              "<div>\n",
              "<style scoped>\n",
              "    .dataframe tbody tr th:only-of-type {\n",
              "        vertical-align: middle;\n",
              "    }\n",
              "\n",
              "    .dataframe tbody tr th {\n",
              "        vertical-align: top;\n",
              "    }\n",
              "\n",
              "    .dataframe thead th {\n",
              "        text-align: right;\n",
              "    }\n",
              "</style>\n",
              "<table border=\"1\" class=\"dataframe\">\n",
              "  <thead>\n",
              "    <tr style=\"text-align: right;\">\n",
              "      <th></th>\n",
              "      <th>DEPARTAMENTO</th>\n",
              "      <th>MUNICIPIO</th>\n",
              "      <th>ARMAS MEDIO</th>\n",
              "      <th>GENERO</th>\n",
              "      <th>*AGRUPA EDAD PERSONA</th>\n",
              "      <th>FECHA HECHO</th>\n",
              "      <th>CANTIDAD</th>\n",
              "    </tr>\n",
              "  </thead>\n",
              "  <tbody>\n",
              "    <tr>\n",
              "      <th>0</th>\n",
              "      <td>AMAZONAS</td>\n",
              "      <td>LETICIA (CT)</td>\n",
              "      <td>ARMA BLANCA / CORTOPUNZANTE</td>\n",
              "      <td>FEMENINO</td>\n",
              "      <td>ADULTOS</td>\n",
              "      <td>2021-02-12</td>\n",
              "      <td>1.0</td>\n",
              "    </tr>\n",
              "  </tbody>\n",
              "</table>\n",
              "</div>"
            ],
            "text/plain": [
              "  DEPARTAMENTO     MUNICIPIO  ... FECHA HECHO CANTIDAD \n",
              "0     AMAZONAS  LETICIA (CT)  ...  2021-02-12       1.0\n",
              "\n",
              "[1 rows x 7 columns]"
            ]
          },
          "metadata": {},
          "execution_count": 84
        }
      ],
      "source": [
        "# Cambiamos la fecha del hecho de un string a un formato datetime para poder trabajar con series de tiempo\n",
        "df[\"FECHA HECHO\"] = pd.to_datetime(df[\"FECHA HECHO\"]) \n",
        "df.head(1)"
      ]
    },
    {
      "cell_type": "code",
      "execution_count": 85,
      "metadata": {
        "id": "gnbJyv71j1Xg"
      },
      "outputs": [],
      "source": [
        "df.rename(columns={\"CANTIDAD \": \"CANTIDAD\"}, inplace=True) #renombramos la columna CANTIDAD, ya que tiene un espacio en blanco y nos generará problemas a futuro"
      ]
    },
    {
      "cell_type": "markdown",
      "metadata": {
        "id": "vX9hkspjTjyg"
      },
      "source": [
        "**3.2 EDA**"
      ]
    },
    {
      "cell_type": "code",
      "execution_count": 106,
      "metadata": {
        "colab": {
          "base_uri": "https://localhost:8080/",
          "height": 1000
        },
        "id": "eykup1IgPKaF",
        "outputId": "55ba760d-5d42-4c12-8a40-b7113e6213d6"
      },
      "outputs": [
        {
          "output_type": "execute_result",
          "data": {
            "text/html": [
              "<div>\n",
              "<style scoped>\n",
              "    .dataframe tbody tr th:only-of-type {\n",
              "        vertical-align: middle;\n",
              "    }\n",
              "\n",
              "    .dataframe tbody tr th {\n",
              "        vertical-align: top;\n",
              "    }\n",
              "\n",
              "    .dataframe thead th {\n",
              "        text-align: right;\n",
              "    }\n",
              "</style>\n",
              "<table border=\"1\" class=\"dataframe\">\n",
              "  <thead>\n",
              "    <tr style=\"text-align: right;\">\n",
              "      <th></th>\n",
              "      <th>CANTIDAD</th>\n",
              "    </tr>\n",
              "    <tr>\n",
              "      <th>DEPARTAMENTO</th>\n",
              "      <th></th>\n",
              "    </tr>\n",
              "  </thead>\n",
              "  <tbody>\n",
              "    <tr>\n",
              "      <th>CUNDINAMARCA</th>\n",
              "      <td>111980.0</td>\n",
              "    </tr>\n",
              "    <tr>\n",
              "      <th>ANTIOQUIA</th>\n",
              "      <td>30844.0</td>\n",
              "    </tr>\n",
              "    <tr>\n",
              "      <th>VALLE</th>\n",
              "      <td>21701.0</td>\n",
              "    </tr>\n",
              "    <tr>\n",
              "      <th>ATLÁNTICO</th>\n",
              "      <td>12850.0</td>\n",
              "    </tr>\n",
              "    <tr>\n",
              "      <th>SANTANDER</th>\n",
              "      <td>10154.0</td>\n",
              "    </tr>\n",
              "    <tr>\n",
              "      <th>TOLIMA</th>\n",
              "      <td>5669.0</td>\n",
              "    </tr>\n",
              "    <tr>\n",
              "      <th>BOLÍVAR</th>\n",
              "      <td>5650.0</td>\n",
              "    </tr>\n",
              "    <tr>\n",
              "      <th>NARIÑO</th>\n",
              "      <td>4956.0</td>\n",
              "    </tr>\n",
              "    <tr>\n",
              "      <th>META</th>\n",
              "      <td>4757.0</td>\n",
              "    </tr>\n",
              "    <tr>\n",
              "      <th>HUILA</th>\n",
              "      <td>4589.0</td>\n",
              "    </tr>\n",
              "    <tr>\n",
              "      <th>CAUCA</th>\n",
              "      <td>3814.0</td>\n",
              "    </tr>\n",
              "    <tr>\n",
              "      <th>NORTE DE SANTANDER</th>\n",
              "      <td>3649.0</td>\n",
              "    </tr>\n",
              "    <tr>\n",
              "      <th>CESAR</th>\n",
              "      <td>3473.0</td>\n",
              "    </tr>\n",
              "    <tr>\n",
              "      <th>MAGDALENA</th>\n",
              "      <td>3390.0</td>\n",
              "    </tr>\n",
              "    <tr>\n",
              "      <th>RISARALDA</th>\n",
              "      <td>3332.0</td>\n",
              "    </tr>\n",
              "    <tr>\n",
              "      <th>BOYACÁ</th>\n",
              "      <td>2361.0</td>\n",
              "    </tr>\n",
              "    <tr>\n",
              "      <th>QUINDÍO</th>\n",
              "      <td>2239.0</td>\n",
              "    </tr>\n",
              "    <tr>\n",
              "      <th>CÓRDOBA</th>\n",
              "      <td>1798.0</td>\n",
              "    </tr>\n",
              "    <tr>\n",
              "      <th>SUCRE</th>\n",
              "      <td>1581.0</td>\n",
              "    </tr>\n",
              "    <tr>\n",
              "      <th>GUAJIRA</th>\n",
              "      <td>1546.0</td>\n",
              "    </tr>\n",
              "    <tr>\n",
              "      <th>CALDAS</th>\n",
              "      <td>1492.0</td>\n",
              "    </tr>\n",
              "    <tr>\n",
              "      <th>CASANARE</th>\n",
              "      <td>1397.0</td>\n",
              "    </tr>\n",
              "    <tr>\n",
              "      <th>CAQUETÁ</th>\n",
              "      <td>938.0</td>\n",
              "    </tr>\n",
              "    <tr>\n",
              "      <th>CHOCÓ</th>\n",
              "      <td>610.0</td>\n",
              "    </tr>\n",
              "    <tr>\n",
              "      <th>ARAUCA</th>\n",
              "      <td>366.0</td>\n",
              "    </tr>\n",
              "    <tr>\n",
              "      <th>SAN ANDRÉS</th>\n",
              "      <td>245.0</td>\n",
              "    </tr>\n",
              "    <tr>\n",
              "      <th>PUTUMAYO</th>\n",
              "      <td>240.0</td>\n",
              "    </tr>\n",
              "    <tr>\n",
              "      <th>AMAZONAS</th>\n",
              "      <td>91.0</td>\n",
              "    </tr>\n",
              "    <tr>\n",
              "      <th>GUAVIARE</th>\n",
              "      <td>72.0</td>\n",
              "    </tr>\n",
              "    <tr>\n",
              "      <th>GUAINÍA</th>\n",
              "      <td>61.0</td>\n",
              "    </tr>\n",
              "    <tr>\n",
              "      <th>VICHADA</th>\n",
              "      <td>42.0</td>\n",
              "    </tr>\n",
              "    <tr>\n",
              "      <th>VAUPÉS</th>\n",
              "      <td>24.0</td>\n",
              "    </tr>\n",
              "  </tbody>\n",
              "</table>\n",
              "</div>"
            ],
            "text/plain": [
              "                    CANTIDAD\n",
              "DEPARTAMENTO                \n",
              "CUNDINAMARCA        111980.0\n",
              "ANTIOQUIA            30844.0\n",
              "VALLE                21701.0\n",
              "ATLÁNTICO            12850.0\n",
              "SANTANDER            10154.0\n",
              "TOLIMA                5669.0\n",
              "BOLÍVAR               5650.0\n",
              "NARIÑO                4956.0\n",
              "META                  4757.0\n",
              "HUILA                 4589.0\n",
              "CAUCA                 3814.0\n",
              "NORTE DE SANTANDER    3649.0\n",
              "CESAR                 3473.0\n",
              "MAGDALENA             3390.0\n",
              "RISARALDA             3332.0\n",
              "BOYACÁ                2361.0\n",
              "QUINDÍO               2239.0\n",
              "CÓRDOBA               1798.0\n",
              "SUCRE                 1581.0\n",
              "GUAJIRA               1546.0\n",
              "CALDAS                1492.0\n",
              "CASANARE              1397.0\n",
              "CAQUETÁ                938.0\n",
              "CHOCÓ                  610.0\n",
              "ARAUCA                 366.0\n",
              "SAN ANDRÉS             245.0\n",
              "PUTUMAYO               240.0\n",
              "AMAZONAS                91.0\n",
              "GUAVIARE                72.0\n",
              "GUAINÍA                 61.0\n",
              "VICHADA                 42.0\n",
              "VAUPÉS                  24.0"
            ]
          },
          "metadata": {},
          "execution_count": 106
        }
      ],
      "source": [
        "df.groupby([\"DEPARTAMENTO\"])[\"CANTIDAD\"].sum().to_frame().sort_values(\"CANTIDAD\", ascending = False)"
      ]
    },
    {
      "cell_type": "code",
      "source": [
        "df.groupby([\"MUNICIPIO\"])[\"CANTIDAD\"].sum().to_frame().sort_values(\"CANTIDAD\", ascending = False)"
      ],
      "metadata": {
        "colab": {
          "base_uri": "https://localhost:8080/",
          "height": 454
        },
        "id": "q5evpjQkNg9s",
        "outputId": "6cc64ebe-34c4-489c-8ee9-0ddd2d7030bc"
      },
      "execution_count": 107,
      "outputs": [
        {
          "output_type": "execute_result",
          "data": {
            "text/html": [
              "<div>\n",
              "<style scoped>\n",
              "    .dataframe tbody tr th:only-of-type {\n",
              "        vertical-align: middle;\n",
              "    }\n",
              "\n",
              "    .dataframe tbody tr th {\n",
              "        vertical-align: top;\n",
              "    }\n",
              "\n",
              "    .dataframe thead th {\n",
              "        text-align: right;\n",
              "    }\n",
              "</style>\n",
              "<table border=\"1\" class=\"dataframe\">\n",
              "  <thead>\n",
              "    <tr style=\"text-align: right;\">\n",
              "      <th></th>\n",
              "      <th>CANTIDAD</th>\n",
              "    </tr>\n",
              "    <tr>\n",
              "      <th>MUNICIPIO</th>\n",
              "      <th></th>\n",
              "    </tr>\n",
              "  </thead>\n",
              "  <tbody>\n",
              "    <tr>\n",
              "      <th>BOGOTÁ D.C. (CT)</th>\n",
              "      <td>96816.0</td>\n",
              "    </tr>\n",
              "    <tr>\n",
              "      <th>MEDELLÍN (CT)</th>\n",
              "      <td>20517.0</td>\n",
              "    </tr>\n",
              "    <tr>\n",
              "      <th>CALI (CT)</th>\n",
              "      <td>16566.0</td>\n",
              "    </tr>\n",
              "    <tr>\n",
              "      <th>BARRANQUILLA (CT)</th>\n",
              "      <td>9333.0</td>\n",
              "    </tr>\n",
              "    <tr>\n",
              "      <th>SOACHA</th>\n",
              "      <td>5548.0</td>\n",
              "    </tr>\n",
              "    <tr>\n",
              "      <th>...</th>\n",
              "      <td>...</td>\n",
              "    </tr>\n",
              "    <tr>\n",
              "      <th>SIACHOQUE</th>\n",
              "      <td>1.0</td>\n",
              "    </tr>\n",
              "    <tr>\n",
              "      <th>CERINZA</th>\n",
              "      <td>1.0</td>\n",
              "    </tr>\n",
              "    <tr>\n",
              "      <th>EL CARMEN DE CHUCURÍ</th>\n",
              "      <td>1.0</td>\n",
              "    </tr>\n",
              "    <tr>\n",
              "      <th>TIQUISIO</th>\n",
              "      <td>1.0</td>\n",
              "    </tr>\n",
              "    <tr>\n",
              "      <th>LINARES</th>\n",
              "      <td>1.0</td>\n",
              "    </tr>\n",
              "  </tbody>\n",
              "</table>\n",
              "<p>914 rows × 1 columns</p>\n",
              "</div>"
            ],
            "text/plain": [
              "                      CANTIDAD\n",
              "MUNICIPIO                     \n",
              "BOGOTÁ D.C. (CT)       96816.0\n",
              "MEDELLÍN (CT)          20517.0\n",
              "CALI (CT)              16566.0\n",
              "BARRANQUILLA (CT)       9333.0\n",
              "SOACHA                  5548.0\n",
              "...                        ...\n",
              "SIACHOQUE                  1.0\n",
              "CERINZA                    1.0\n",
              "EL CARMEN DE CHUCURÍ       1.0\n",
              "TIQUISIO                   1.0\n",
              "LINARES                    1.0\n",
              "\n",
              "[914 rows x 1 columns]"
            ]
          },
          "metadata": {},
          "execution_count": 107
        }
      ]
    },
    {
      "cell_type": "markdown",
      "source": [
        "Aquí se organizo los datos de manera descendente, para poder corroborar en que Departamento del país se presentan más robos, se recurrio a una sumatoria, debido a que un solo reporte equivale en ocasiones a varios hurtos, es decir que una persona puede reportar multiples hurtos cometidos. En este caso Cundinamarca es el departamento que más hurtos presento con 111980, seguido de Antioquia con cerca de 30.000 y Valle con 21.701. El departamento con menos hurtos es Vaupés con 24 hurtos reportados hasta el 30 de Noviembre de 2021. Cabe resaltar que los hurtos cometidos corresponden a una correlación positiva entre el tramaño del departamento. Si se realiza una desagregación por municipios se tiene que las capitales de los principales departamentos son las que presentan mayor número de hurtos, de otra parte los municipios de 6 categoria tienen indices de hurtos muy bajos."
      ],
      "metadata": {
        "id": "HPxVabCZwImZ"
      }
    },
    {
      "cell_type": "code",
      "execution_count": 88,
      "metadata": {
        "id": "_G8vyUIhDCAb"
      },
      "outputs": [],
      "source": [
        "from matplotlib import rcParams\n",
        "rcParams[\"figure.figsize\"] = 12, 7 #cambiamos la relación de aspecto y tamaño de los gráficos"
      ]
    },
    {
      "cell_type": "code",
      "execution_count": 102,
      "metadata": {
        "colab": {
          "base_uri": "https://localhost:8080/",
          "height": 566
        },
        "id": "7cC7W2aMh5T5",
        "outputId": "03e2f5c1-f627-41eb-adb9-1cb2a2447323"
      },
      "outputs": [
        {
          "output_type": "display_data",
          "data": {
            "image/png": "[encoded data removed]",
            "text/plain": [
              "<Figure size 864x504 with 1 Axes>"
            ]
          },
          "metadata": {
            "needs_background": "light"
          }
        }
      ],
      "source": [
        "sns.histplot(\n",
        "    data = df,\n",
        "        x = \"DEPARTAMENTO\",\n",
        "        stat = \"percent\")\n",
        "\n",
        "plt.title(\"Modalidad Utilizada\", fontsize = 12)\n",
        "plt.ylabel(\"Número de Hurtos\", fontsize = 12)\n",
        "plt.xlabel(\"Modalidad De Hurto\", fontsize = 12)\n",
        "plt.xticks(rotation = \"vertical\")\n",
        "plt.show()"
      ]
    },
    {
      "cell_type": "markdown",
      "source": [
        "AL analizar los datos en base a porcentajes de participación de los totales, se observa que Cundinamarca aporta el 17.5% de los hurtos, seguido de Antioquia con el 13%, Valle del Cauca con el 7.5% y Santander alrededor del 6%."
      ],
      "metadata": {
        "id": "DzcvNPQoOHnF"
      }
    },
    {
      "cell_type": "code",
      "execution_count": 90,
      "metadata": {
        "colab": {
          "base_uri": "https://localhost:8080/"
        },
        "id": "TB-CWQ48OEz5",
        "outputId": "188a5416-6453-45f3-e3f0-b8f1b7c5d364"
      },
      "outputs": [
        {
          "output_type": "execute_result",
          "data": {
            "text/plain": [
              "MASCULINO        57.657314\n",
              "FEMENINO         42.327437\n",
              "NO  REPORTADO     0.015249\n",
              "Name: GENERO, dtype: float64"
            ]
          },
          "metadata": {},
          "execution_count": 90
        }
      ],
      "source": [
        "df[\"GENERO\"].value_counts() / df[\"GENERO\"].value_counts().sum() * 100 #realizamos una transformación de a porcentajes"
      ]
    },
    {
      "cell_type": "markdown",
      "source": [
        "Al analizar los porcentajes de la categoria de género, se tiene que el 57.65% de los delitos reportados fueron cometidos por personas de género masculino; el 42,32% fueron cometidos por personas del género femenino; y el restante 0.015% no se pudo identificar el género del asaltante."
      ],
      "metadata": {
        "id": "DfCoq66YxeH8"
      }
    },
    {
      "cell_type": "code",
      "execution_count": 91,
      "metadata": {
        "colab": {
          "base_uri": "https://localhost:8080/",
          "height": 300
        },
        "id": "ZFF73GBDk0f1",
        "outputId": "235b0e46-30f6-480f-d38d-81a8a67d1b62"
      },
      "outputs": [
        {
          "output_type": "execute_result",
          "data": {
            "text/html": [
              "<div>\n",
              "<style scoped>\n",
              "    .dataframe tbody tr th:only-of-type {\n",
              "        vertical-align: middle;\n",
              "    }\n",
              "\n",
              "    .dataframe tbody tr th {\n",
              "        vertical-align: top;\n",
              "    }\n",
              "\n",
              "    .dataframe thead th {\n",
              "        text-align: right;\n",
              "    }\n",
              "</style>\n",
              "<table border=\"1\" class=\"dataframe\">\n",
              "  <thead>\n",
              "    <tr style=\"text-align: right;\">\n",
              "      <th></th>\n",
              "      <th></th>\n",
              "      <th>CANTIDAD</th>\n",
              "    </tr>\n",
              "    <tr>\n",
              "      <th>GENERO</th>\n",
              "      <th>*AGRUPA EDAD PERSONA</th>\n",
              "      <th></th>\n",
              "    </tr>\n",
              "  </thead>\n",
              "  <tbody>\n",
              "    <tr>\n",
              "      <th rowspan=\"3\" valign=\"top\">FEMENINO</th>\n",
              "      <th>ADOLESCENTES</th>\n",
              "      <td>752.0</td>\n",
              "    </tr>\n",
              "    <tr>\n",
              "      <th>ADULTOS</th>\n",
              "      <td>98503.0</td>\n",
              "    </tr>\n",
              "    <tr>\n",
              "      <th>MENORES</th>\n",
              "      <td>117.0</td>\n",
              "    </tr>\n",
              "    <tr>\n",
              "      <th rowspan=\"3\" valign=\"top\">MASCULINO</th>\n",
              "      <th>ADOLESCENTES</th>\n",
              "      <td>1395.0</td>\n",
              "    </tr>\n",
              "    <tr>\n",
              "      <th>ADULTOS</th>\n",
              "      <td>144992.0</td>\n",
              "    </tr>\n",
              "    <tr>\n",
              "      <th>MENORES</th>\n",
              "      <td>140.0</td>\n",
              "    </tr>\n",
              "    <tr>\n",
              "      <th>NO  REPORTADO</th>\n",
              "      <th>NO  REPORTADO</th>\n",
              "      <td>12.0</td>\n",
              "    </tr>\n",
              "  </tbody>\n",
              "</table>\n",
              "</div>"
            ],
            "text/plain": [
              "                                    CANTIDAD\n",
              "GENERO        *AGRUPA EDAD PERSONA          \n",
              "FEMENINO      ADOLESCENTES             752.0\n",
              "              ADULTOS                98503.0\n",
              "              MENORES                  117.0\n",
              "MASCULINO     ADOLESCENTES            1395.0\n",
              "              ADULTOS               144992.0\n",
              "              MENORES                  140.0\n",
              "NO  REPORTADO NO  REPORTADO             12.0"
            ]
          },
          "metadata": {},
          "execution_count": 91
        }
      ],
      "source": [
        "df.groupby([\"GENERO\", \"*AGRUPA EDAD PERSONA\"])[\"CANTIDAD\"].sum().to_frame()"
      ]
    },
    {
      "cell_type": "markdown",
      "source": [
        "La mayoria de los delitos de hurto cometidos, agrupados en edad categórica, fueron perpetrados por adultos en los dos géneros, seguido de los adolescentes y una pequeña proporcion por menores. En todos los casos hay una mayor porporción de delitos cometidos por personas de género masculino."
      ],
      "metadata": {
        "id": "7cXXKcOUzDNW"
      }
    },
    {
      "cell_type": "code",
      "source": [
        "sns.histplot(\n",
        "    data = df,\n",
        "        x = \"ARMAS MEDIO\",\n",
        "        hue = \"*AGRUPA EDAD PERSONA\",\n",
        "        multiple = \"stack\",\n",
        "        stat = \"percent\")\n",
        "\n",
        "plt.title(\"Edad y Modalidad De Hurto\", fontsize = 12)\n",
        "plt.ylabel(\"Porcentaje\", fontsize = 12)\n",
        "plt.xlabel(\"Modalidad De Hurto\", fontsize = 12)\n",
        "plt.xticks(rotation = \"vertical\")\n",
        "plt.show()"
      ],
      "metadata": {
        "colab": {
          "base_uri": "https://localhost:8080/",
          "height": 767
        },
        "id": "s0UDz4uwLVSB",
        "outputId": "ed51cb37-cc9b-44b0-bd6c-6384353f0d29"
      },
      "execution_count": 103,
      "outputs": [
        {
          "output_type": "display_data",
          "data": {
            "image/png": "[encoded data removed]",
            "text/plain": [
              "<Figure size 864x504 with 1 Axes>"
            ]
          },
          "metadata": {
            "needs_background": "light"
          }
        }
      ]
    },
    {
      "cell_type": "code",
      "source": [
        "sns.histplot(\n",
        "    data = df,\n",
        "        x = \"ARMAS MEDIO\",\n",
        "        hue = \"GENERO\",\n",
        "        binwidth = 0.5,\n",
        "        multiple = \"stack\",\n",
        "        stat = \"percent\")\n",
        "\n",
        "plt.title(\"Género y Modalidad De Hurto\", fontsize = 12)\n",
        "plt.ylabel(\"Porcentaje\", fontsize = 12)\n",
        "plt.xlabel(\"Modalidad De Hurto\", fontsize = 12)\n",
        "plt.xticks(rotation = \"vertical\")\n",
        "plt.show()\n",
        "\n"
      ],
      "metadata": {
        "colab": {
          "base_uri": "https://localhost:8080/",
          "height": 767
        },
        "id": "EAV73DSa0V0C",
        "outputId": "f0f36a62-f683-46ba-8e3c-ecaf5badbe9a"
      },
      "execution_count": 98,
      "outputs": [
        {
          "output_type": "display_data",
          "data": {
            "image/png": "[encoded data removed]",
            "text/plain": [
              "<Figure size 864x504 with 1 Axes>"
            ]
          },
          "metadata": {
            "needs_background": "light"
          }
        }
      ]
    },
    {
      "cell_type": "markdown",
      "source": [
        "\n",
        "Al cruzar las categorias de genero y la modalidad de hurto que fue empleada se ecuentra que el medio de hurto más utilizado es sin empleo de armas, representando alrededor del 43%, en el cual se encuentran submodalidades como el \"cosquilleo\", \"raponaso\", \"abandono de pertenencias\", etc. De otra parte se encuentra seguido de una forma muy violenta de robo, haciendo uso de armas de fuego, representando el 27%; la modalidad por arma cortopunzante representa el 20% de los hurtos totales; el uso de artefactos contundentes el 6% y una forma de hurto popular en Colombia que es el uso de escopolamina se encuentra alrededor del 1%. \n",
        "\n",
        "En todos los casos de hurtos presentados, la mayor proporción segun la modalidad se atribuye al género masculino en su ejecución, a excepción de la modalidad que no emplea armas, en la cual la proporción entre hombres y mujeres es similar.\n",
        "\n",
        "Un análisis muy importante que se desprende y de caracter preocupante cuando se comparan las formas de hurto violentas, frente a las no violentas, es que si sumamos la proporción de armas de fuego, armas cortopunzantes, artefactos contundentes y el uso de escopolamina, se encuentra que representan más de la mitad de los hurtos cometidos. Tiene especial atención este hecho debido a que atentan directamente contra la vida e integridad de la persona."
      ],
      "metadata": {
        "id": "LnUlz_-YG3ce"
      }
    },
    {
      "cell_type": "code",
      "execution_count": 95,
      "metadata": {
        "colab": {
          "base_uri": "https://localhost:8080/",
          "height": 425
        },
        "id": "PDXTYCGaAXy-",
        "outputId": "2ac92ac4-c277-49e6-9a61-0f024080faf7"
      },
      "outputs": [
        {
          "output_type": "execute_result",
          "data": {
            "text/html": [
              "<div>\n",
              "<style scoped>\n",
              "    .dataframe tbody tr th:only-of-type {\n",
              "        vertical-align: middle;\n",
              "    }\n",
              "\n",
              "    .dataframe tbody tr th {\n",
              "        vertical-align: top;\n",
              "    }\n",
              "\n",
              "    .dataframe thead th {\n",
              "        text-align: right;\n",
              "    }\n",
              "</style>\n",
              "<table border=\"1\" class=\"dataframe\">\n",
              "  <thead>\n",
              "    <tr style=\"text-align: right;\">\n",
              "      <th></th>\n",
              "      <th>CANTIDAD</th>\n",
              "    </tr>\n",
              "    <tr>\n",
              "      <th>FECHA HECHO</th>\n",
              "      <th></th>\n",
              "    </tr>\n",
              "  </thead>\n",
              "  <tbody>\n",
              "    <tr>\n",
              "      <th>2021-01-31</th>\n",
              "      <td>17898.0</td>\n",
              "    </tr>\n",
              "    <tr>\n",
              "      <th>2021-02-28</th>\n",
              "      <td>19342.0</td>\n",
              "    </tr>\n",
              "    <tr>\n",
              "      <th>2021-03-31</th>\n",
              "      <td>22196.0</td>\n",
              "    </tr>\n",
              "    <tr>\n",
              "      <th>2021-04-30</th>\n",
              "      <td>18422.0</td>\n",
              "    </tr>\n",
              "    <tr>\n",
              "      <th>2021-05-31</th>\n",
              "      <td>21146.0</td>\n",
              "    </tr>\n",
              "    <tr>\n",
              "      <th>2021-06-30</th>\n",
              "      <td>22728.0</td>\n",
              "    </tr>\n",
              "    <tr>\n",
              "      <th>2021-07-31</th>\n",
              "      <td>24165.0</td>\n",
              "    </tr>\n",
              "    <tr>\n",
              "      <th>2021-08-31</th>\n",
              "      <td>24408.0</td>\n",
              "    </tr>\n",
              "    <tr>\n",
              "      <th>2021-09-30</th>\n",
              "      <td>23565.0</td>\n",
              "    </tr>\n",
              "    <tr>\n",
              "      <th>2021-10-31</th>\n",
              "      <td>26895.0</td>\n",
              "    </tr>\n",
              "    <tr>\n",
              "      <th>2021-11-30</th>\n",
              "      <td>25146.0</td>\n",
              "    </tr>\n",
              "  </tbody>\n",
              "</table>\n",
              "</div>"
            ],
            "text/plain": [
              "             CANTIDAD\n",
              "FECHA HECHO          \n",
              "2021-01-31    17898.0\n",
              "2021-02-28    19342.0\n",
              "2021-03-31    22196.0\n",
              "2021-04-30    18422.0\n",
              "2021-05-31    21146.0\n",
              "2021-06-30    22728.0\n",
              "2021-07-31    24165.0\n",
              "2021-08-31    24408.0\n",
              "2021-09-30    23565.0\n",
              "2021-10-31    26895.0\n",
              "2021-11-30    25146.0"
            ]
          },
          "metadata": {},
          "execution_count": 95
        }
      ],
      "source": [
        "df_seriet = df.groupby(pd.Grouper(key = \"FECHA HECHO\", freq = \"M\"))[[\"CANTIDAD\"]].sum() #Definimos la serie temporal y la agrupamos por mes sumando la cantidad de hechos mensuales\n",
        "df_seriet"
      ]
    },
    {
      "cell_type": "code",
      "execution_count": 96,
      "metadata": {
        "colab": {
          "base_uri": "https://localhost:8080/",
          "height": 473
        },
        "id": "qroDRtGlBFaW",
        "outputId": "d29e30f2-af09-4dc8-9ad7-4d265edb7fe3"
      },
      "outputs": [
        {
          "output_type": "display_data",
          "data": {
            "image/png": "[encoded data removed]",
            "text/plain": [
              "<Figure size 864x504 with 1 Axes>"
            ]
          },
          "metadata": {
            "needs_background": "light"
          }
        }
      ],
      "source": [
        "df_seriet.plot()\n",
        "plt.title(\"Número de Hurtos Enero-Noviembre 2021\", fontsize = 12)\n",
        "plt.ylabel(\"Número de Hurtos\", fontsize = 12)\n",
        "plt.xlabel(\"Fecha\", fontsize = 12)\n",
        "plt.show()"
      ]
    },
    {
      "cell_type": "markdown",
      "source": [
        "El 2021 fue uno de los años más inseguros percibidos por los Colombianos y Colombianas, presentandose en su mayoria delitos de hurto, al analizar la tendencia de la serie de tiempo a lo largo del año, se partio de una cifra de 18000 hurtos en enero, suplicandose hasta su pico más alto en Octubre. Tuvo una caida en el mes de abril, un hecho que se puede manifestar por el inicio del paro nacional, sin embargo comenzó su ascenso hasta octubre mes en el cual las encuestas de seguridad ciudadana percibieron como el más inseguro en muchos años, para el mes de noviembre se comenzo a percibir una baja."
      ],
      "metadata": {
        "id": "Bffmizx2O-v7"
      }
    }
  ],
  "metadata": {
    "colab": {
      "collapsed_sections": [],
      "name": "Hurto a Personas Colombia 2021.ipynb",
      "provenance": [],
      "authorship_tag": "ABX9TyNZym3Y2jJ1YdWvuUqSzIKh",
      "include_colab_link": true
    },
    "kernelspec": {
      "display_name": "Python 3",
      "name": "python3"
    },
    "language_info": {
      "name": "python"
    }
  },
  "nbformat": 4,
  "nbformat_minor": 0
}